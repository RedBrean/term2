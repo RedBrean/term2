{
 "cells": [
  {
   "cell_type": "code",
   "execution_count": 1,
   "metadata": {},
   "outputs": [],
   "source": [
    "M = 22\n",
    "N = 10"
   ]
  },
  {
   "cell_type": "code",
   "execution_count": 1,
   "metadata": {},
   "outputs": [
    {
     "name": "stdout",
     "output_type": "stream",
     "text": [
      "1\n",
      "2\n",
      "4\n",
      "8\n",
      "16\n",
      "24\n",
      "24\n"
     ]
    },
    {
     "ename": "",
     "evalue": "",
     "output_type": "error",
     "traceback": [
      "\u001b[1;31mThe Kernel crashed while executing code in the current cell or a previous cell. \n",
      "\u001b[1;31mPlease review the code in the cell(s) to identify a possible cause of the failure. \n",
      "\u001b[1;31mClick <a href='https://aka.ms/vscodeJupyterKernelCrash'>here</a> for more info. \n",
      "\u001b[1;31mView Jupyter <a href='command:jupyter.viewOutput'>log</a> for further details."
     ]
    }
   ],
   "source": [
    "a = 1\n",
    "b = 1\n",
    "\n",
    "for i in range(200):\n",
    "    print(b)\n",
    "    #flush()\n",
    "    inp = input()\n",
    "    if inp == \"wet\":\n",
    "        a = b\n",
    "        b*=2\n",
    "        continue\n",
    "    elif inp == \"ok\":\n",
    "        a = b\n",
    "        b*=2\n",
    "        break\n",
    "    else:\n",
    "        exit(0)\n",
    "        break\n",
    "\n",
    "for i in range(200):\n",
    "    m = (a+b)//2\n",
    "    print(m)\n",
    "    #flush()\n",
    "    inp = input()\n",
    "    if inp == \"wet\":\n",
    "        a = m+1\n",
    "    elif inp == \"ok\":\n",
    "        b = m\n",
    "        if(a == b):\n",
    "            print(\"!\",b)\n",
    "            exit()\n",
    "    else:\n",
    "        exit()\n",
    "        break\n",
    "    "
   ]
  }
 ],
 "metadata": {
  "kernelspec": {
   "display_name": "Python 3",
   "language": "python",
   "name": "python3"
  },
  "language_info": {
   "codemirror_mode": {
    "name": "ipython",
    "version": 3
   },
   "file_extension": ".py",
   "mimetype": "text/x-python",
   "name": "python",
   "nbconvert_exporter": "python",
   "pygments_lexer": "ipython3",
   "version": "3.12.2"
  }
 },
 "nbformat": 4,
 "nbformat_minor": 2
}
