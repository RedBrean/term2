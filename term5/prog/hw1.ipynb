{
 "cells": [
  {
   "cell_type": "markdown",
   "id": "ee2a3ecf",
   "metadata": {},
   "source": [
    "# Упражнение 1"
   ]
  },
  {
   "cell_type": "code",
   "execution_count": null,
   "id": "5d67eef3",
   "metadata": {},
   "outputs": [],
   "source": [
    "import numpy as np\n",
    "\n",
    "# 1. Объединение двух матриц по столбцам\n",
    "A = np.random.randint(0, 10, (3, 4))\n",
    "B = np.random.randint(0, 10, (3, 2))\n",
    "C = np.hstack([A, B])\n",
    "print(\"1. Объединённая матрица:\\n\", C)\n",
    "\n",
    "# 2. Массив элементов M[a[i], b[i]]\n",
    "M = np.arange(16).reshape(4, 4)\n",
    "a = np.array([0, 1, 2, 3])\n",
    "b = np.array([3, 2, 1, 0])\n",
    "result = M[a, b]\n",
    "print(\"2. Массив элементов M[a[i], b[i]]:\", result)\n",
    "\n",
    "# 3. След и количество ненулевых элементов на диагонали\n",
    "mat = np.array([[1, 0, 2], [0, 3, 0], [4, 0, 5]])\n",
    "trace = np.trace(mat)\n",
    "nonzero_diag = np.count_nonzero(np.diag(mat))\n",
    "print(\"3. След:\", trace, \"Ненулевых на диагонали:\", nonzero_diag)\n",
    "\n",
    "# 4. Замена элементов второго массива на 0, если в первом отрицательные\n",
    "X = np.array([[1, -2, 3], [4, -5, 6]])\n",
    "Y = np.array([[7, 8, 9], [10, 11, 12]])\n",
    "Y[X < 0] = 0\n",
    "print(\"4. Массив Y после замены:\\n\", Y)\n",
    "\n",
    "# 5. Матрица скалярных произведений столбцов двух матриц\n",
    "A = np.random.randint(0, 10, (4, 3))  # 4 строки, 3 столбца\n",
    "B = np.random.randint(0, 10, (4, 2))  # 4 строки, 2 столбца\n",
    "scalar_products = np.dot(A.T, B)\n",
    "print(\"5. Матрица скалярных произведений:\\n\", scalar_products)"
   ]
  }
 ],
 "metadata": {
  "kernelspec": {
   "display_name": "Python 3",
   "language": "python",
   "name": "python3"
  },
  "language_info": {
   "codemirror_mode": {
    "name": "ipython",
    "version": 3
   },
   "file_extension": ".py",
   "mimetype": "text/x-python",
   "name": "python",
   "nbconvert_exporter": "python",
   "pygments_lexer": "ipython3",
   "version": "3.13.7"
  }
 },
 "nbformat": 4,
 "nbformat_minor": 5
}
