{
 "cells": [
  {
   "cell_type": "code",
   "execution_count": 13,
   "id": "777a8c86",
   "metadata": {},
   "outputs": [
    {
     "name": "stdout",
     "output_type": "stream",
     "text": [
      "1.2005239279830703e+29 2.643512056574351e-78\n"
     ]
    }
   ],
   "source": [
    "from scipy import constants\n",
    "\n",
    "r = constants.hbar**2/constants.G/constants.m_e**2/constants.m_p\n",
    "E=constants.hbar**2/constants.m_e/r**2/constants.e/2\n",
    "print(r,E)"
   ]
  },
  {
   "cell_type": "code",
   "execution_count": null,
   "id": "2e202051",
   "metadata": {},
   "outputs": [
    {
     "data": {
      "text/plain": [
       "1.6402817810117567e-27"
      ]
     },
     "execution_count": 22,
     "metadata": {},
     "output_type": "execute_result"
    }
   ],
   "source": [
    "U0 = constants.g * 0.1 * constants.m_p \n",
    "constants.hbar**2/1E-6**2/constants.m_p\n",
    "U0/3*2/constants.k\n"
   ]
  },
  {
   "cell_type": "code",
   "execution_count": 3,
   "id": "744e6110",
   "metadata": {},
   "outputs": [
    {
     "data": {
      "text/plain": [
       "'CPA_Presentation_English_Maine1988.pptx'"
      ]
     },
     "execution_count": 3,
     "metadata": {},
     "output_type": "execute_result"
    }
   ],
   "source": [
    "from pptx import Presentation\n",
    "\n",
    "# Create presentation\n",
    "prs = Presentation()\n",
    "\n",
    "def add_slide(title, lines):\n",
    "    slide = prs.slides.add_slide(prs.slide_layouts[1])\n",
    "    slide.shapes.title.text = title\n",
    "    tf = slide.placeholders[1].text_frame\n",
    "    tf.clear()\n",
    "    for line in lines:\n",
    "        p = tf.add_paragraph()\n",
    "        p.text = line\n",
    "    return slide\n",
    "\n",
    "# Slides\n",
    "add_slide(\"Generation of Ultrahigh Peak Power Pulses by Chirped Pulse Amplification\",\n",
    "          [\"P. Maine, D. Strickland, P. Bado, M. Pessot, G. Mourou (IEEE J. Quantum Electronics, 1988)\"])\n",
    "\n",
    "add_slide(\"Core Idea\", [\n",
    "    \"A short laser pulse is first stretched (chirped) to reduce peak power, amplified safely, and then compressed again.\",\n",
    "    \"• Overcomes nonlinear effects in amplifiers.\",\n",
    "    \"• Achieves peak power up to 0.5 TW.\",\n",
    "    \"• Forms the basis for petawatt-class lasers.\"\n",
    "])\n",
    "\n",
    "add_slide(\"Limits of Short-Pulse Amplification\", [\n",
    "    \"1. The amplifier bandwidth must support the full pulse spectrum.\",\n",
    "    \"2. Fluence should be near the saturation fluence: Fs = hν / σ.\",\n",
    "    \"3. Intensity must stay below the nonlinear limit (B-integral):\",\n",
    "    \"   B = (2π / λ) ∫ n₂ I(z) dz ≤ 5.\"\n",
    "])\n",
    "\n",
    "add_slide(\"Principle of Chirped Pulse Amplification (CPA)\", [\n",
    "    \"1. Pulse stretcher – expands the pulse in time.\",\n",
    "    \"2. Amplifier – increases energy at low peak intensity.\",\n",
    "    \"3. Compressor – restores the short duration.\",\n",
    "    \"↓\",\n",
    "    \"Produces a short, high-energy pulse.\",\n",
    "    \"[Insert Figure 1 – CPA setup diagram]\"\n",
    "])\n",
    "\n",
    "add_slide(\"Experimental Setup\", [\n",
    "    \"• Laser: CW mode-locked Nd:YLF, λ = 1.053 µm, 55 ps pulses.\",\n",
    "    \"• Stretching: 1.3 km single-mode fiber → 300 ps.\",\n",
    "    \"• Amplification: Nd:glass → up to 1 J energy.\",\n",
    "    \"• Compression: 1700 lines/mm gratings → 1 ps.\",\n",
    "    \"• Peak power: 0.5 TW.\",\n",
    "    \"[Insert Figure 2 or Figure 4 – experimental layout.]\"\n",
    "])\n",
    "\n",
    "add_slide(\"Key Equations\", [\n",
    "    \"Saturation fluence: Fs = hν / σ.\",\n",
    "    \"Nonlinear phase shift (B-integral): B = (2π / λ) ∫ n₂ I(z) dz.\",\n",
    "    \"Group delay from grating pair:\",\n",
    "    \"τ(λ) = τ₀ + τ₁ + τ₂ = Lλ / (c a cos²θ) + 3Lλ² / (c a² cos³θ).\"\n",
    "])\n",
    "\n",
    "add_slide(\"Experimental Results\", [\n",
    "    \"• Pulse energy: 0.5 J.\",\n",
    "    \"• Duration: 1 ps.\",\n",
    "    \"• Peak power: 0.5 TW.\",\n",
    "    \"• Beam divergence: 2.2× diffraction limit.\",\n",
    "    \"• Brightness: ~10²¹ W/(cm²·sr).\",\n",
    "    \"[Insert Figure 6 – autocorrelation trace.]\"\n",
    "])\n",
    "\n",
    "add_slide(\"Toward Petawatt Power\", [\n",
    "    \"If stretched to 1 ns and amplified to 1 kJ:\",\n",
    "    \"P = E / τ = 1 kJ / 1 ps = 1 PW.\",\n",
    "    \"• Enables intensities above 10²³ W/cm².\",\n",
    "    \"[Insert Figure 11 – expansion–compression setup.]\"\n",
    "])\n",
    "\n",
    "add_slide(\"Conclusions\", [\n",
    "    \"• CPA allows short-pulse amplification without nonlinear distortion.\",\n",
    "    \"• Achieved 0.5 TW peak power in a compact tabletop system.\",\n",
    "    \"• Opened the path to petawatt lasers and modern ultrafast optics.\"\n",
    "])\n",
    "\n",
    "# Save file\n",
    "output_path = \"CPA_Presentation_English_Maine1988.pptx\"\n",
    "prs.save(output_path)\n",
    "output_path\n"
   ]
  }
 ],
 "metadata": {
  "kernelspec": {
   "display_name": "Python 3",
   "language": "python",
   "name": "python3"
  },
  "language_info": {
   "codemirror_mode": {
    "name": "ipython",
    "version": 3
   },
   "file_extension": ".py",
   "mimetype": "text/x-python",
   "name": "python",
   "nbconvert_exporter": "python",
   "pygments_lexer": "ipython3",
   "version": "3.13.7"
  }
 },
 "nbformat": 4,
 "nbformat_minor": 5
}
