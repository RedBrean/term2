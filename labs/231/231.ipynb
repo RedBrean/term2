{
 "cells": [
  {
   "cell_type": "code",
   "execution_count": 138,
   "metadata": {},
   "outputs": [],
   "source": [
    "import numpy as np\n",
    "import pandas as pd\n",
    "import matplotlib.pyplot as plt\n",
    "import warnings\n",
    "from functools import  total_ordering\n",
    "\n",
    "def get_values(data):\n",
    "    result = []\n",
    "    for x in data:\n",
    "        result.append(x.value)\n",
    "    return result\n",
    "\n",
    "def get_deltas(data):\n",
    "    result = []\n",
    "    for x in data:\n",
    "        result.append(x.delta)\n",
    "    return result\n",
    "\n",
    "def kovar(x_data, y_data):\n",
    "    x = np.array(x_data)\n",
    "    y = np.array(y_data)\n",
    "    return (x*y).mean() - x.mean() * y.mean()\n",
    "\n",
    "def mnk_non_zero(x_data, y_data):\n",
    "    x =  np.array(x_data)\n",
    "    y = np.array(y_data)\n",
    "    k = kovar(x, y) / kovar (x, x)\n",
    "    b = y.mean()-k*x.mean()\n",
    "\n",
    "    sigma_k = ((kovar(y, y)/kovar(x,x) - k**2) / (len(x)-2) )**0.5\n",
    "    sigma_b = sigma_k * (x**2).mean()**0.5\n",
    "    return (DData(k, sigma_k)), (DData(b, sigma_b))\n",
    "\n",
    "def linearcalc(x, y, xmin = 0, xmax = 0):\n",
    "    plt.grid(True)\n",
    "    plt.plot(x, y, \"o\")\n",
    "    k, b = mnk_non_zero(x, y)\n",
    "    xl = np.array([min(x.min(), xmin), max(xmax, x.max())])\n",
    "    plt.plot(xl, xl*k.value + b.value)\n",
    "    print(\"k, b =\", k, b)\n",
    "    return k, b\n",
    "\n",
    "class SerDData():\n",
    "    \"\"\"Запихиваешь сюда свою дату похожу на пандасовсвую серию и вызываешь ее параметры\"\"\"\n",
    "    def __init__(self, data):\n",
    "        try:\n",
    "            self.data = pd.Series(data)\n",
    "            self.data = self.data.dropna()\n",
    "            self.data = self.data.apply(SerDData.ConvertIfNotDData)\n",
    "        except:\n",
    "            raise Exception(f\"Нифига не получилось. data = {data}\")\n",
    "        \n",
    "    def ConvertIfNotDData(x):\n",
    "        if(type(x) != DData):\n",
    "            return DData(x)\n",
    "    @property\n",
    "    def sigmaRaspr(self):    \n",
    "        mean = self.meanValue\n",
    "        return (self.data.map(lambda x: (x.value - mean)**2).sum()/len(self.data))**0.5\n",
    "\n",
    "    @property\n",
    "    def meanValue(self):    \n",
    "        return self.meanStupid.value\n",
    "\n",
    "    @property\n",
    "    def sigmaSluch(self):\n",
    "        n = len(self.data)\n",
    "        return(self.sigmaRaspr / (n*(n-1))**0.5)\n",
    "    \n",
    "    @property\n",
    "    def sigmaPrib(self):\n",
    "        return self.meanStupid.delta\n",
    "    \n",
    "    @property\n",
    "    def meanStupid(self):\n",
    "        result = self.data.sum()/len(self.data)\n",
    "        result.delta *= (len(self.data))**0.5\n",
    "        return(result)\n",
    "\n",
    "    @property\n",
    "    def mean(self):\n",
    "        mean = self.meanStupid\n",
    "        mean.delta = (mean.delta**2 + self.sigmaSluch**2)**0.5\n",
    "        return mean\n",
    "\n",
    "    @property\n",
    "    def sigma(self):\n",
    "        return self.mean.delta\n",
    "    \n",
    "@total_ordering\n",
    "class DData():\n",
    "    def __init__(self, value = 0, delta = 0, epsilon = 0, E = 0):\n",
    "        self.__value = 0\n",
    "        self.__delta = 0\n",
    "        self.__E = E\n",
    "        self.value = value\n",
    "        assert (delta == 0 or epsilon == 0), \"При задании можно указать только один тип погрешности\"\n",
    "        \n",
    "        if(delta!=0):\n",
    "            self.delta = delta\n",
    "        elif(epsilon!=0):\n",
    "            self.epsilon = epsilon\n",
    "    \n",
    "    @property\n",
    "    def E(self):\n",
    "        return self.__E\n",
    "    \n",
    "    @E.setter\n",
    "    def E(self, value):\n",
    "        self.value *= 10**(self.E-value)\n",
    "        self.delta *= 10**(self.E-value)\n",
    "        self.__E = value\n",
    "\n",
    "    @property\n",
    "    def value(self):\n",
    "        return self.__value\n",
    "\n",
    "    @value.setter\n",
    "    def value(self, value):\n",
    "        if(isinstance(value, DData)):\n",
    "            self.__value = value.value\n",
    "            self.__delta = value.delta\n",
    "            self.__E = value.E\n",
    "        elif(isinstance(value, (int, float))):\n",
    "            self.__value = value \n",
    "        else:\n",
    "            assert False, \"Значение должно быть числом\"\n",
    "\n",
    "    @property\n",
    "    def epsilon(self):\n",
    "        if(self.value == 0):\n",
    "            return 0\n",
    "        return self.delta/self.value\n",
    "    @epsilon.setter\n",
    "    def epsilon(self, epsilon):\n",
    "        self.delta = abs(self.value*epsilon)\n",
    "\n",
    "    @property\n",
    "    def delta(self):\n",
    "        return self.__delta\n",
    "    @delta.setter\n",
    "    def delta(self, delta):\n",
    "        self.__delta = delta\n",
    "\n",
    "    def __str__(self):\n",
    "        #return(f\"{self.__value} \\\\pm {self.__delta}\")\n",
    "        return self.LaTeX()\n",
    "    def to_str(self, LaTeX = False, E = False):\n",
    "        try:\n",
    "            if(self.delta != 0):\n",
    "                znak = -int((np.log10(self.delta))//1)+1\n",
    "            else:\n",
    "                znak = 1\n",
    "        except:\n",
    "            warnings.warn(f\"попытка вывести какую-то хрень. value = {self.value}, delta = {self.delta}\")\n",
    "            return \"NaN\"\n",
    "        try:\n",
    "            form = f\".{znak}f\"\n",
    "            value_str = round(self.value, znak)\n",
    "\n",
    "            delta_str = round(self.delta, znak)\n",
    "\n",
    "            value_str = format(value_str, form)\n",
    "            delta_str = format(delta_str, form)\n",
    "\n",
    "            if LaTeX:\n",
    "                return f\"${value_str} \\pm {delta_str}$\"\n",
    "            elif not E or self.E == 0:\n",
    "\n",
    "                return (f\"{value_str} \\pm {delta_str}\")\n",
    "            else:\n",
    "                return (f\"{value_str} \\pm {delta_str} \\cdot 10^{E}\")\n",
    "        except:\n",
    "            warnings.warn(\"Что-то сломалось при отображении \")\n",
    "            return f\"${round(self.value, znak)} \\pm {round(self.delta, znak)}$\"\n",
    "    def __neg__(self):\n",
    "        return DData(-self.value, self.delta, E = self.E)\n",
    "\n",
    "    def __add__(self, other):\n",
    "        other = DData(other)\n",
    "        if(self.E == other.E):\n",
    "            return(DData(self.value + other.value, (self.delta**2 + other.delta**2)**0.5, E = self.E))\n",
    "        else:\n",
    "            newE = min(self.E, other.E)\n",
    "            other.E = newE\n",
    "            newSelf = DData(self)\n",
    "            newSelf.E = newE\n",
    "            return(newSelf+other)\n",
    "        \n",
    "    \n",
    "    def __radd__(self, other):\n",
    "        return self + other\n",
    "\n",
    "    def __sub__(self, other):\n",
    "        return self + (-other)\n",
    "    \n",
    "    def __rsub__(self, other):\n",
    "        return -(self - other)\n",
    "    \n",
    "    def __mul__(self, other):\n",
    "        other = DData(other)\n",
    "        return DData(self.value * other.value, epsilon=(self.epsilon**2 + other.epsilon**2)**0.5, E = self.E + other.E)\n",
    "        \n",
    "    def __rmul__(self, other):\n",
    "        return self*other\n",
    "        \n",
    "    def __truediv__(self, other):\n",
    "        if(isinstance(other, (int, float, DData))):\n",
    "            other = DData(other)\n",
    "            return DData(self.value / other.value, epsilon=(self.epsilon**2 + other.epsilon**2)**0.5, E = self.E - other.E)\n",
    "        elif (isinstance(other, pd.Series)):\n",
    "            return 1/other * self\n",
    "        else:\n",
    "            assert False, f\"А фиг тебе, я не умею делить на {other} типа {type(other)}\"\n",
    "        \n",
    "    def __rtruediv__(self, other):\n",
    "        return (DData(1)/self) * other\n",
    "    \n",
    "    def __pow__(self, other):\n",
    "        if(isinstance(other, (int, float))):\n",
    "            return DData(self.value**other, epsilon=other*self.epsilon, E = self.E * other)\n",
    "        else:\n",
    "            assert False, \"Пока можно возводить только в степень точного числа\"\n",
    "    \n",
    "    def __eq__(self, other):\n",
    "        return (self.value == other.value) and (self.delta == other.delta)\n",
    "\n",
    "    def __lt__(self, other):\n",
    "        return (self.value < other.value)\n",
    "\n",
    "    def LaTeX(self):\n",
    "        return self.to_str(True)\n",
    "    \n",
    "    def changeE(self, E):\n",
    "        try:\n",
    "            self.E = E\n",
    "            return True\n",
    "        except:\n",
    "            return False\n",
    "\n",
    "    @staticmethod\n",
    "    def tryConvert(x, delta = 0, epsilon = 0, E = 0):\n",
    "        try:\n",
    "            if(pd.isna(x)):\n",
    "                return x\n",
    "            return DData(float(x), delta = delta, epsilon = epsilon, E = E)\n",
    "        except:\n",
    "            return x\n",
    "    def changeEInSerias(series : pd.Series, E):\n",
    "        series.dropna().apply(lambda x: x.changeE(E))\n",
    "\n"
   ]
  },
  {
   "cell_type": "code",
   "execution_count": 139,
   "metadata": {},
   "outputs": [
    {
     "data": {
      "text/plain": [
       "0    $252.0 \\pm 2.7$\n",
       "1       $933 \\pm 10$\n",
       "2      $1120 \\pm 12$\n",
       "3      $1537 \\pm 17$\n",
       "4      $1839 \\pm 20$\n",
       "dtype: object"
      ]
     },
     "execution_count": 139,
     "metadata": {},
     "output_type": "execute_result"
    }
   ],
   "source": [
    "v0 = DData(252,1)\n",
    "p = pd.Series([10**5, 2.70*10**4, 2.25*10**4, 1.64*10**4, 1.37*10**4])\n",
    "p = p.apply(lambda x: DData(x, epsilon=0.01))\n",
    "v = v0*10**5/p\n",
    "v"
   ]
  },
  {
   "cell_type": "code",
   "execution_count": 140,
   "metadata": {},
   "outputs": [],
   "source": [
    "data = pd.read_csv(\"data_pars.csv\", sep=\";\")"
   ]
  },
  {
   "cell_type": "code",
   "execution_count": 141,
   "metadata": {},
   "outputs": [],
   "source": [
    "def T_srez(a, b, ObjectName, srezData = data):\n",
    "    return srezData[srezData[\"Sec\"]<=b][srezData[\"Sec\"]>=a][srezData[\"Object Name\"] == ObjectName]"
   ]
  },
  {
   "cell_type": "code",
   "execution_count": 142,
   "metadata": {},
   "outputs": [
    {
     "name": "stderr",
     "output_type": "stream",
     "text": [
      "C:\\Users\\Alexey\\AppData\\Local\\Temp\\ipykernel_30960\\670096446.py:2: UserWarning: Boolean Series key will be reindexed to match DataFrame index.\n",
      "  return srezData[srezData[\"Sec\"]<=b][srezData[\"Sec\"]>=a][srezData[\"Object Name\"] == ObjectName]\n",
      "C:\\Users\\Alexey\\AppData\\Local\\Temp\\ipykernel_30960\\670096446.py:2: UserWarning: Boolean Series key will be reindexed to match DataFrame index.\n",
      "  return srezData[srezData[\"Sec\"]<=b][srezData[\"Sec\"]>=a][srezData[\"Object Name\"] == ObjectName]\n",
      "C:\\Users\\Alexey\\AppData\\Local\\Temp\\ipykernel_30960\\670096446.py:2: UserWarning: Boolean Series key will be reindexed to match DataFrame index.\n",
      "  return srezData[srezData[\"Sec\"]<=b][srezData[\"Sec\"]>=a][srezData[\"Object Name\"] == ObjectName]\n",
      "C:\\Users\\Alexey\\AppData\\Local\\Temp\\ipykernel_30960\\670096446.py:2: UserWarning: Boolean Series key will be reindexed to match DataFrame index.\n",
      "  return srezData[srezData[\"Sec\"]<=b][srezData[\"Sec\"]>=a][srezData[\"Object Name\"] == ObjectName]\n",
      "C:\\Users\\Alexey\\AppData\\Local\\Temp\\ipykernel_30960\\670096446.py:2: UserWarning: Boolean Series key will be reindexed to match DataFrame index.\n",
      "  return srezData[srezData[\"Sec\"]<=b][srezData[\"Sec\"]>=a][srezData[\"Object Name\"] == ObjectName]\n",
      "C:\\Users\\Alexey\\AppData\\Local\\Temp\\ipykernel_30960\\670096446.py:2: UserWarning: Boolean Series key will be reindexed to match DataFrame index.\n",
      "  return srezData[srezData[\"Sec\"]<=b][srezData[\"Sec\"]>=a][srezData[\"Object Name\"] == ObjectName]\n",
      "C:\\Users\\Alexey\\AppData\\Local\\Temp\\ipykernel_30960\\670096446.py:2: UserWarning: Boolean Series key will be reindexed to match DataFrame index.\n",
      "  return srezData[srezData[\"Sec\"]<=b][srezData[\"Sec\"]>=a][srezData[\"Object Name\"] == ObjectName]\n",
      "C:\\Users\\Alexey\\AppData\\Local\\Temp\\ipykernel_30960\\670096446.py:2: UserWarning: Boolean Series key will be reindexed to match DataFrame index.\n",
      "  return srezData[srezData[\"Sec\"]<=b][srezData[\"Sec\"]>=a][srezData[\"Object Name\"] == ObjectName]\n"
     ]
    },
    {
     "data": {
      "text/html": [
       "<div>\n",
       "<style scoped>\n",
       "    .dataframe tbody tr th:only-of-type {\n",
       "        vertical-align: middle;\n",
       "    }\n",
       "\n",
       "    .dataframe tbody tr th {\n",
       "        vertical-align: top;\n",
       "    }\n",
       "\n",
       "    .dataframe thead th {\n",
       "        text-align: right;\n",
       "    }\n",
       "</style>\n",
       "<table border=\"1\" class=\"dataframe\">\n",
       "  <thead>\n",
       "    <tr style=\"text-align: right;\">\n",
       "      <th></th>\n",
       "      <th>P, Па</th>\n",
       "      <th>V общий, мл</th>\n",
       "      <th>V добавленный, мл</th>\n",
       "      <th>Название добавленной части</th>\n",
       "    </tr>\n",
       "  </thead>\n",
       "  <tbody>\n",
       "    <tr>\n",
       "      <th>0</th>\n",
       "      <td>100000</td>\n",
       "      <td>$252.0 \\pm 1.0$</td>\n",
       "      <td>$252.0 \\pm 1.0$</td>\n",
       "      <td>Сильфон</td>\n",
       "    </tr>\n",
       "    <tr>\n",
       "      <th>1</th>\n",
       "      <td>$27318 \\pm 11$</td>\n",
       "      <td>$922.5 \\pm 3.7$</td>\n",
       "      <td>$670.5 \\pm 3.8$</td>\n",
       "      <td>Камера</td>\n",
       "    </tr>\n",
       "    <tr>\n",
       "      <th>2</th>\n",
       "      <td>$22619.5 \\pm 5.2$</td>\n",
       "      <td>$1114.1 \\pm 4.4$</td>\n",
       "      <td>$191.6 \\pm 5.8$</td>\n",
       "      <td>Форвакуумная магистраль</td>\n",
       "    </tr>\n",
       "    <tr>\n",
       "      <th>3</th>\n",
       "      <td>$16465.1 \\pm 1.8$</td>\n",
       "      <td>$1530.5 \\pm 6.1$</td>\n",
       "      <td>$416.4 \\pm 7.5$</td>\n",
       "      <td>ТМН</td>\n",
       "    </tr>\n",
       "    <tr>\n",
       "      <th>4</th>\n",
       "      <td>$13536.7 \\pm 2.4$</td>\n",
       "      <td>$1861.6 \\pm 7.4$</td>\n",
       "      <td>$331.1 \\pm 9.6$</td>\n",
       "      <td>Масленная ловушка и форвакуумный насос</td>\n",
       "    </tr>\n",
       "  </tbody>\n",
       "</table>\n",
       "</div>"
      ],
      "text/plain": [
       "               P, Па       V общий, мл V добавленный, мл  \\\n",
       "0             100000   $252.0 \\pm 1.0$   $252.0 \\pm 1.0$   \n",
       "1     $27318 \\pm 11$   $922.5 \\pm 3.7$   $670.5 \\pm 3.8$   \n",
       "2  $22619.5 \\pm 5.2$  $1114.1 \\pm 4.4$   $191.6 \\pm 5.8$   \n",
       "3  $16465.1 \\pm 1.8$  $1530.5 \\pm 6.1$   $416.4 \\pm 7.5$   \n",
       "4  $13536.7 \\pm 2.4$  $1861.6 \\pm 7.4$   $331.1 \\pm 9.6$   \n",
       "\n",
       "               Название добавленной части  \n",
       "0                                 Сильфон  \n",
       "1                                  Камера  \n",
       "2                 Форвакуумная магистраль  \n",
       "3                                     ТМН  \n",
       "4  Масленная ловушка и форвакуумный насос  "
      ]
     },
     "execution_count": 142,
     "metadata": {},
     "output_type": "execute_result"
    }
   ],
   "source": [
    "p = []\n",
    "p.append(100000)\n",
    "p.append(SerDData(T_srez(2850, 2920, \"TIC Gauge 1\")[\"Value\"]).mean)\n",
    "p.append(SerDData(T_srez(2941, 2961, \"TIC Gauge 1\")[\"Value\"]).mean)\n",
    "p.append(SerDData(T_srez(2970, 3027, \"TIC Gauge 1\")[\"Value\"]).mean)\n",
    "p.append(SerDData(T_srez(3055, 3083, \"TIC Gauge 1\")[\"Value\"]).mean)\n",
    "\n",
    "p = pd.Series(p)\n",
    "v0 = DData(252, 1)\n",
    "p0 = 100000\n",
    "v = v0*p0/p\n",
    "v1 = pd.Series([v[0], v[1]-v[0], v[2]-v[1], v[3] - v[2], v[4] - v[3]])\n",
    "\n",
    "v_frame = pd.DataFrame()\n",
    "v_frame[\"P, Па\"] = p\n",
    "v_frame[\"V общий, мл\"] = v\n",
    "v_frame[\"V добавленный, мл\"] = v1\n",
    "v_frame[\"Название добавленной части\"] = pd.Series([\"Сильфон\", \"Камера\", \"Форвакуумная магистраль\", \"ТМН\", \"Масленная ловушка и форвакуумный насос\"])\n",
    "v_frame"
   ]
  },
  {
   "cell_type": "code",
   "execution_count": 143,
   "metadata": {},
   "outputs": [],
   "source": [
    "v_frame.to_clipboard()"
   ]
  },
  {
   "cell_type": "code",
   "execution_count": 144,
   "metadata": {},
   "outputs": [
    {
     "name": "stderr",
     "output_type": "stream",
     "text": [
      "C:\\Users\\Alexey\\AppData\\Local\\Temp\\ipykernel_30960\\670096446.py:2: UserWarning: Boolean Series key will be reindexed to match DataFrame index.\n",
      "  return srezData[srezData[\"Sec\"]<=b][srezData[\"Sec\"]>=a][srezData[\"Object Name\"] == ObjectName]\n",
      "C:\\Users\\Alexey\\AppData\\Local\\Temp\\ipykernel_30960\\670096446.py:2: UserWarning: Boolean Series key will be reindexed to match DataFrame index.\n",
      "  return srezData[srezData[\"Sec\"]<=b][srezData[\"Sec\"]>=a][srezData[\"Object Name\"] == ObjectName]\n"
     ]
    }
   ],
   "source": [
    "for_vac = T_srez(80, 100, \"TIC Gauge 1\")\n"
   ]
  },
  {
   "cell_type": "code",
   "execution_count": 145,
   "metadata": {},
   "outputs": [
    {
     "name": "stdout",
     "output_type": "stream",
     "text": [
      "k, b = $-0.340 \\pm 0.013$ $38.5 \\pm 1.2$\n"
     ]
    },
    {
     "data": {
      "image/png": "[encoded data removed]",
      "text/plain": [
       "<Figure size 640x480 with 1 Axes>"
      ]
     },
     "metadata": {},
     "output_type": "display_data"
    }
   ],
   "source": [
    "plt.xlabel(\"T, с\")\n",
    "plt.ylabel(\"ln(P)\")\n",
    "k_for, _ = linearcalc(for_vac[\"Sec\"], np.log(for_vac[\"Value\"]), 75, 100)\n",
    "plt.savefig(\"for_log\", dpi = 300)\n"
   ]
  },
  {
   "cell_type": "code",
   "execution_count": 146,
   "metadata": {},
   "outputs": [
    {
     "name": "stdout",
     "output_type": "stream",
     "text": [
      "$-2.94 \\pm 0.11$\n"
     ]
    }
   ],
   "source": [
    "Tao = 1/k_for\n",
    "print(Tao)"
   ]
  },
  {
   "cell_type": "code",
   "execution_count": 148,
   "metadata": {},
   "outputs": [
    {
     "name": "stderr",
     "output_type": "stream",
     "text": [
      "C:\\Users\\Alexey\\AppData\\Local\\Temp\\ipykernel_30960\\670096446.py:2: UserWarning: Boolean Series key will be reindexed to match DataFrame index.\n",
      "  return srezData[srezData[\"Sec\"]<=b][srezData[\"Sec\"]>=a][srezData[\"Object Name\"] == ObjectName]\n",
      "C:\\Users\\Alexey\\AppData\\Local\\Temp\\ipykernel_30960\\670096446.py:2: UserWarning: Boolean Series key will be reindexed to match DataFrame index.\n",
      "  return srezData[srezData[\"Sec\"]<=b][srezData[\"Sec\"]>=a][srezData[\"Object Name\"] == ObjectName]\n"
     ]
    },
    {
     "data": {
      "text/plain": [
       "[<matplotlib.lines.Line2D at 0x2b62b04e310>]"
      ]
     },
     "execution_count": 148,
     "metadata": {},
     "output_type": "execute_result"
    },
    {
     "data": {
      "image/png": "[encoded data removed]",
      "text/plain": [
       "<Figure size 640x480 with 1 Axes>"
      ]
     },
     "metadata": {},
     "output_type": "display_data"
    }
   ],
   "source": [
    "turbo_mol = T_srez(4918, 5000, \"TIC Gauge 2\")\n",
    "plt.plot(turbo_mol[\"Sec\"], turbo_mol[\"Value\"])"
   ]
  }
 ],
 "metadata": {
  "kernelspec": {
   "display_name": "Python 3",
   "language": "python",
   "name": "python3"
  },
  "language_info": {
   "codemirror_mode": {
    "name": "ipython",
    "version": 3
   },
   "file_extension": ".py",
   "mimetype": "text/x-python",
   "name": "python",
   "nbconvert_exporter": "python",
   "pygments_lexer": "ipython3",
   "version": "3.11.5"
  }
 },
 "nbformat": 4,
 "nbformat_minor": 2
}
